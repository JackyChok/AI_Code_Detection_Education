{
 "cells": [
  {
   "cell_type": "markdown",
   "metadata": {},
   "source": [
    "## Install dependency"
   ]
  },
  {
   "cell_type": "code",
   "execution_count": 4,
   "metadata": {},
   "outputs": [],
   "source": [
    "import pandas as pd"
   ]
  },
  {
   "cell_type": "code",
   "execution_count": 9,
   "metadata": {},
   "outputs": [],
   "source": [
    "# df = pd.read_csv(\"./detecgpt_output.csv\", encoding=\"utf-8\")   # Replace file path to file containing DetectGPT output"
   ]
  },
  {
   "cell_type": "markdown",
   "metadata": {},
   "source": [
    "## DetectGPT Output Postprocess"
   ]
  },
  {
   "cell_type": "code",
   "execution_count": 11,
   "metadata": {},
   "outputs": [],
   "source": [
    "def map_value(cell_value):\n",
    "    if pd.notna(cell_value):\n",
    "        if \"A.I.\" in cell_value:\n",
    "            return 0\n",
    "        elif \"Human\" in cell_value:\n",
    "            return 1\n",
    "    return None  # For NaN values\n",
    "\n",
    "df.dropna(subset=[\"DetectGPT_answer_human_full\", \"DetectGPT_answer_GPT_full\"], how=\"any\", inplace=True)\n",
    "\n",
    "# Apply the mapping function to the specified columns\n",
    "df[\"DetectGPT_answer_GPT_full\"] = df[\"DetectGPT_answer_GPT_full\"].apply(map_value)\n",
    "df[\"DetectGPT_answer_human_full\"] = df[\"DetectGPT_answer_human_full\"].apply(map_value)\n",
    "\n",
    "df.rename(columns={\"DetectGPT_answer_human_full\": \"DetectGPT_answer_human_binary\", \"DetectGPT_answer_GPT_full\": \"DetectGPT_answer_GPT_binary\"}, inplace=True)\n",
    "\n",
    "df.to_csv(\"./output.csv\", index=False)"
   ]
  }
 ],
 "metadata": {
  "kernelspec": {
   "display_name": "base",
   "language": "python",
   "name": "python3"
  },
  "language_info": {
   "codemirror_mode": {
    "name": "ipython",
    "version": 3
   },
   "file_extension": ".py",
   "mimetype": "text/x-python",
   "name": "python",
   "nbconvert_exporter": "python",
   "pygments_lexer": "ipython3",
   "version": "3.11.5"
  },
  "orig_nbformat": 4
 },
 "nbformat": 4,
 "nbformat_minor": 2
}
